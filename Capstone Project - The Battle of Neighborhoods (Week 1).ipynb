{
 "cells": [
  {
   "cell_type": "markdown",
   "metadata": {},
   "source": [
    "# Capstone Project - The Battle of Neighborhoods (Week 1)"
   ]
  },
  {
   "cell_type": "markdown",
   "metadata": {},
   "source": [
    "## Introduction/Business Problem"
   ]
  },
  {
   "cell_type": "markdown",
   "metadata": {},
   "source": [
    "Nowadays we all know that basic necessity in this time of pandemic. Most of the people only get out of their house to buy foods and grocery to the nearest supermarket or grocery store, and due to high demand of basic necessity, most of stores are full of customers and most of people consume a lot of their time queue outside the store. It may be good reason that a stakeholder may get interested to open a business place like Supermarket or Grocery Store in Denver City, Colorado. "
   ]
  },
  {
   "cell_type": "markdown",
   "metadata": {},
   "source": [
    "This report goal is to find a safe and secure location to start a business place in Denver City, Colorado in this time of pandemic. The first thing to do choose an area with least crime rate near the area by analyzing crime data. Next is to get a shortlisting of neighborhood where same like business is not common on the area."
   ]
  },
  {
   "cell_type": "markdown",
   "metadata": {},
   "source": [
    "In this report, we will use data science tools to analyze data and select the safest place to open a commercial establishment and explore its neighborhoods and get the 10 most common venues in each neighborhood where same like business is not common on the area."
   ]
  },
  {
   "cell_type": "markdown",
   "metadata": {},
   "source": [
    "## Data"
   ]
  },
  {
   "cell_type": "markdown",
   "metadata": {},
   "source": [
    "These are the following data needed to extract in order to answer the business problem:"
   ]
  },
  {
   "cell_type": "markdown",
   "metadata": {},
   "source": [
    "1. **Crime Data in Denver City** – data set from [Seattle City’s Open Data Portal](https://www.denvergov.org/) which is free to use. This data set is needed in order to locate and analyze which specific area have the least crime rate and the data is saved in terms of what kind of crime committed as well as the location indicated in longitude and latitude."
   ]
  },
  {
   "cell_type": "markdown",
   "metadata": {},
   "source": [
    "2. **List of Neighborhood in Denver City** – data set also comes from [Seattle City’s Open Data Portal](https://www.denvergov.org/). In this data set contains the official list of neighborhoods in Denver that is will be used to map the existing data where each neighborhood can be assigned with its respective borough."
   ]
  },
  {
   "cell_type": "markdown",
   "metadata": {},
   "source": [
    "3. **Neighborhood's coordinates (Longitude and Latitude)** – After we get the list of neighborhoods in Denver City, we will get the coordinate of each neighborhood in Denver. To fetch data, we will need to use Geocoder, then explore the neighborhood by plotting it on maps using Folium and perform exploratory data analysis."
   ]
  },
  {
   "cell_type": "markdown",
   "metadata": {},
   "source": [
    "4.  **Shortlisting of commercial establishment along the neighborhood of Denver with coordinates** - This data will be fetched using Four Square API to explore the neighborhood venues and to apply machine learning algorithm to cluster the neighborhoods and present the findings by plotting it on maps using Folium."
   ]
  }
 ],
 "metadata": {
  "kernelspec": {
   "display_name": "Python",
   "language": "python",
   "name": "conda-env-python-py"
  },
  "language_info": {
   "codemirror_mode": {
    "name": "ipython",
    "version": 3
   },
   "file_extension": ".py",
   "mimetype": "text/x-python",
   "name": "python",
   "nbconvert_exporter": "python",
   "pygments_lexer": "ipython3",
   "version": "3.6.12"
  }
 },
 "nbformat": 4,
 "nbformat_minor": 4
}
